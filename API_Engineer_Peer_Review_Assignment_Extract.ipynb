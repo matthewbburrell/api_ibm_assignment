{
 "cells": [
  {
   "cell_type": "markdown",
   "metadata": {},
   "source": [
    "<center>\n",
    "    <img src=\"https://gitlab.com/ibm/skills-network/courses/placeholder101/-/raw/master/labs/module%201/images/IDSNlogo.png\" width=\"300\" alt=\"cognitiveclass.ai logo\"  />\n",
    "</center>\n"
   ]
  },
  {
   "cell_type": "markdown",
   "metadata": {},
   "source": [
    "# Peer Review Assignment - Data Engineer - Extract API Data\n"
   ]
  },
  {
   "cell_type": "markdown",
   "metadata": {},
   "source": [
    "Estimated time needed: **20** minutes\n"
   ]
  },
  {
   "cell_type": "markdown",
   "metadata": {},
   "source": [
    "## Objectives\n",
    "\n",
    "In this part you will:\n",
    "\n",
    "-   Collect exchange rate data using an API\n",
    "-   Store the data as a CSV\n"
   ]
  },
  {
   "cell_type": "markdown",
   "metadata": {},
   "source": [
    "For this lab, we are going to be using Python and several Python libraries. Some of these libraries might be installed in your lab environment or in SN Labs. Others may need to be installed by you. The cells below will install these libraries when executed.\n"
   ]
  },
  {
   "cell_type": "code",
   "execution_count": null,
   "metadata": {},
   "outputs": [],
   "source": [
    "#!pip install pandas\n",
    "#!pip install requests"
   ]
  },
  {
   "cell_type": "markdown",
   "metadata": {},
   "source": [
    "## Imports\n",
    "\n",
    "Import any additional libraries you may need here.\n"
   ]
  },
  {
   "cell_type": "code",
   "execution_count": 1,
   "metadata": {},
   "outputs": [],
   "source": [
    "import requests\n",
    "import pandas as pd"
   ]
  },
  {
   "cell_type": "markdown",
   "metadata": {},
   "source": [
    "## Extract Data Using an API\n"
   ]
  },
  {
   "cell_type": "markdown",
   "metadata": {},
   "source": [
    "Using ExchangeRate-API we will extract currency exchange rate data. Use the below steps to get the access key and to get the data. \n",
    "\n",
    "1.  Open the url : [https://api.exchangeratesapi.io/](https://api.exchangeratesapi.io?cm_mmc=Email_Newsletter-_-Developer_Ed%2BTech-_-WW_WW-_-SkillsNetwork-Courses-IBMDeveloperSkillsNetwork-PY0221EN-SkillsNetwork-23455645&cm_mmca1=000026UJ&cm_mmca2=10006555&cm_mmca3=M12345678&cvosrc=email.Newsletter.M12345678&cvo_campaign=000026UJ&cm_mmc=Email_Newsletter-_-Developer_Ed%2BTech-_-WW_WW-_-SkillsNetwork-Courses-IBMDeveloperSkillsNetwork-PY0221EN-SkillsNetwork-23455645&cm_mmca1=000026UJ&cm_mmca2=10006555&cm_mmca3=M12345678&cvosrc=email.Newsletter.M12345678&cvo_campaign=000026UJ) and create a free account. \n",
    "2.  Once the account is created. You will get the Get the Free API key option on the top as shown below:\n",
    "\n",
    "<img src=\"https://cf-courses-data.s3.us.cloud-object-storage.appdomain.cloud/IBMDeveloperSkillsNetwork-PY0221EN-SkillsNetwork/labs/module%206/Final%20Assignment/Images/getapi.png\"/>\n",
    "\n",
    "3.  Copy the API key and use in the url in Question 1.\n"
   ]
  },
  {
   "cell_type": "markdown",
   "metadata": {},
   "source": [
    "### Call the API\n",
    "\n",
    " <b> Question 1</b> Using the `requests` library call the endpoint given above and save the text, remember the first few characters of the output: \n"
   ]
  },
  {
   "cell_type": "code",
   "execution_count": 2,
   "metadata": {},
   "outputs": [],
   "source": [
    "# Write your code here\n",
    "url = url = \"http://api.exchangeratesapi.io/v1/latest?base=EUR&access_key=eb214c58bb44260e312319252de73d10\" #make sure to change ******* to your API key."
   ]
  },
  {
   "cell_type": "code",
   "execution_count": 3,
   "metadata": {},
   "outputs": [],
   "source": [
    "req = requests.get(url)"
   ]
  },
  {
   "cell_type": "code",
   "execution_count": 4,
   "metadata": {},
   "outputs": [
    {
     "data": {
      "text/plain": [
       "200"
      ]
     },
     "execution_count": 4,
     "metadata": {},
     "output_type": "execute_result"
    }
   ],
   "source": [
    "req.status_code"
   ]
  },
  {
   "cell_type": "code",
   "execution_count": 5,
   "metadata": {},
   "outputs": [],
   "source": [
    "data = req.json()"
   ]
  },
  {
   "cell_type": "code",
   "execution_count": 6,
   "metadata": {},
   "outputs": [
    {
     "name": "stdout",
     "output_type": "stream",
     "text": [
      "{'success': True, 'timestamp': 1622141824, 'base': 'EUR', 'date': '2021-05-27', 'rates': {'AED': 4.481627, 'AFN': 95.658291, 'ALL': 123.235225, 'AMD': 635.429534, 'ANG': 2.190325, 'AOA': 783.60584, 'ARS': 115.351013, 'AUD': 1.575403, 'AWG': 2.19627, 'AZN': 2.070776, 'BAM': 1.955333, 'BBD': 2.463774, 'BDT': 103.468147, 'BGN': 1.956785, 'BHD': 0.459892, 'BIF': 2407.965626, 'BMD': 1.22015, 'BND': 1.61429, 'BOB': 8.425589, 'BRL': 6.39834, 'BSD': 1.22019, 'BTC': 3.12403e-05, 'BTN': 88.532067, 'BWP': 12.939804, 'BYN': 3.076718, 'BYR': 23914.936037, 'BZD': 2.459585, 'CAD': 1.472239, 'CDF': 2439.079959, 'CHF': 1.094499, 'CLF': 0.032099, 'CLP': 885.709652, 'CNY': 7.788457, 'COP': 4541.043704, 'CRC': 754.162086, 'CUC': 1.22015, 'CUP': 32.33397, 'CVE': 110.850293, 'CZK': 25.445675, 'DJF': 216.845686, 'DKK': 7.43724, 'DOP': 69.596905, 'DZD': 162.655307, 'EGP': 19.134019, 'ERN': 18.304675, 'ETB': 52.496924, 'EUR': 1, 'FJD': 2.48296, 'FKP': 0.868155, 'GBP': 0.85857, 'GEL': 4.020368, 'GGP': 0.868155, 'GHS': 7.058639, 'GIP': 0.868155, 'GMD': 62.410831, 'GNF': 11987.971813, 'GTQ': 9.421927, 'GYD': 254.973088, 'HKD': 9.469406, 'HNL': 29.430048, 'HRK': 7.517097, 'HTG': 111.832652, 'HUF': 348.060201, 'IDR': 17454.303865, 'ILS': 3.957031, 'IMP': 0.868155, 'INR': 88.692199, 'IQD': 1782.02878, 'IRR': 51374.407506, 'ISK': 147.077184, 'JEP': 0.868155, 'JMD': 181.964247, 'JOD': 0.865028, 'JPY': 133.958413, 'KES': 131.17246, 'KGS': 101.739508, 'KHR': 4966.009814, 'KMF': 493.001756, 'KPW': 1098.134961, 'KRW': 1364.676554, 'KWD': 0.367046, 'KYD': 1.016833, 'KZT': 523.555477, 'LAK': 11524.314482, 'LBP': 1863.168562, 'LKR': 242.214621, 'LRD': 209.316871, 'LSL': 16.825385, 'LTL': 3.602785, 'LVL': 0.738056, 'LYD': 5.43009, 'MAD': 10.789178, 'MDL': 21.482039, 'MGA': 4575.561668, 'MKD': 61.495374, 'MMK': 2008.490076, 'MNT': 3478.541038, 'MOP': 9.75492, 'MRO': 435.593268, 'MUR': 49.354914, 'MVR': 18.85163, 'MWK': 963.91858, 'MXN': 24.367119, 'MYR': 5.050809, 'MZN': 74.100125, 'NAD': 16.825902, 'NGN': 503.309728, 'NIO': 43.010339, 'NOK': 10.177452, 'NPR': 141.651987, 'NZD': 1.671507, 'OMR': 0.469742, 'PAB': 1.22019, 'PEN': 4.720151, 'PGK': 4.313301, 'PHP': 58.581227, 'PKR': 189.427875, 'PLN': 4.492024, 'PYG': 8244.036529, 'QAR': 4.442518, 'RON': 4.917816, 'RSD': 117.577035, 'RUB': 89.632936, 'RWF': 1204.897925, 'SAR': 4.575874, 'SBD': 9.72626, 'SCR': 20.132667, 'SDG': 506.362641, 'SEK': 10.088967, 'SGD': 1.614865, 'SHP': 0.868155, 'SLL': 12512.636053, 'SOS': 713.787323, 'SRD': 17.270038, 'STD': 25300.763274, 'SVC': 10.676329, 'SYP': 1534.381403, 'SZL': 16.825135, 'THB': 38.186653, 'TJS': 13.91689, 'TMT': 4.270524, 'TND': 3.322422, 'TOP': 2.731185, 'TRY': 10.383988, 'TTD': 8.282426, 'TWD': 33.920779, 'TZS': 2829.677412, 'UAH': 33.587261, 'UGX': 4331.798714, 'USD': 1.22015, 'UYU': 53.635364, 'UZS': 12921.385859, 'VEF': 260904902547.33463, 'VND': 28130.553588, 'VUV': 132.273043, 'WST': 3.069836, 'XAF': 655.790277, 'XAG': 0.043792, 'XAU': 0.000643, 'XCD': 3.297516, 'XDR': 0.843686, 'XOF': 655.812974, 'XPF': 119.924627, 'YER': 305.098492, 'ZAR': 16.776975, 'ZMK': 10982.814653, 'ZMW': 27.440049, 'ZWL': 392.888607}}\n"
     ]
    }
   ],
   "source": [
    "print(data)"
   ]
  },
  {
   "cell_type": "code",
   "execution_count": 7,
   "metadata": {},
   "outputs": [
    {
     "data": {
      "text/plain": [
       "dict_keys(['success', 'timestamp', 'base', 'date', 'rates'])"
      ]
     },
     "execution_count": 7,
     "metadata": {},
     "output_type": "execute_result"
    }
   ],
   "source": [
    "data.keys()"
   ]
  },
  {
   "cell_type": "markdown",
   "metadata": {},
   "source": [
    "### Save as DataFrame\n",
    "\n",
    " <b> Question 2</b>  Using the data gathered turn it into a `pandas` dataframe. The dataframe should have the Currency as the index and `Rate` as their columns. Make sure to drop unnecessary columns.\n"
   ]
  },
  {
   "cell_type": "code",
   "execution_count": 12,
   "metadata": {},
   "outputs": [],
   "source": [
    "# Turn the data into a dataframe\n",
    "d = data['rates']\n",
    "df = pd.DataFrame(d.items(), columns=['','Rates']).set_index('')"
   ]
  },
  {
   "cell_type": "code",
   "execution_count": null,
   "metadata": {},
   "outputs": [],
   "source": [
    "# Drop unnescessary columns\n"
   ]
  },
  {
   "cell_type": "markdown",
   "metadata": {},
   "source": [
    "### Load the Data\n",
    "\n",
    "Using the dataframe save it as a CSV names `exchange_rates_1.csv`.\n"
   ]
  },
  {
   "cell_type": "code",
   "execution_count": 13,
   "metadata": {},
   "outputs": [],
   "source": [
    "# Save the Dataframe\n",
    "df.to_csv('exchange_rates_1.csv')"
   ]
  },
  {
   "cell_type": "markdown",
   "metadata": {},
   "source": [
    "Your CSV should be in this format with more currencies\n",
    "\n",
    "|     | Rates      |\n",
    "| --- | ---------- |\n",
    "| AED | 4.398618   |\n",
    "| AFN | 92.917693  |\n",
    "| ALL | 123.099093 |\n",
    "| AMD | 621.935674 |\n",
    "| ANG | 2.149648   |\n"
   ]
  },
  {
   "cell_type": "markdown",
   "metadata": {},
   "source": [
    "## Authors\n"
   ]
  },
  {
   "cell_type": "markdown",
   "metadata": {},
   "source": [
    "Ramesh Sannareddy, Joseph Santarcangelo and Azim Hirjani\n"
   ]
  },
  {
   "cell_type": "markdown",
   "metadata": {},
   "source": [
    "### Other Contributors\n"
   ]
  },
  {
   "cell_type": "markdown",
   "metadata": {},
   "source": [
    "Rav Ahuja\n"
   ]
  },
  {
   "cell_type": "markdown",
   "metadata": {},
   "source": [
    "## Change Log\n"
   ]
  },
  {
   "cell_type": "markdown",
   "metadata": {},
   "source": [
    "| Date (YYYY-MM-DD) | Version | Changed By        | Change Description                 |\n",
    "| ----------------- | ------- | ----------------- | ---------------------------------- |\n",
    "| 2021-04-15        | 0.2     | Malika            | Updated the lab from USD to EUR    |\n",
    "| 2020-11-25        | 0.1     | Ramesh Sannareddy | Created initial version of the lab |\n"
   ]
  },
  {
   "cell_type": "markdown",
   "metadata": {},
   "source": [
    " Copyright © 2020 IBM Corporation. This notebook and its source code are released under the terms of the [MIT License](https://cognitiveclass.ai/mit-license?cm_mmc=Email_Newsletter-_-Developer_Ed%2BTech-_-WW_WW-_-SkillsNetwork-Courses-IBM-DA0321EN-SkillsNetwork-21426264&cm_mmca1=000026UJ&cm_mmca2=10006555&cm_mmca3=M12345678&cvosrc=email.Newsletter.M12345678&cvo_campaign=000026UJ&cm_mmc=Email_Newsletter-_-Developer_Ed%2BTech-_-WW_WW-_-SkillsNetwork-Courses-IBM-DA0321EN-SkillsNetwork-21426264&cm_mmca1=000026UJ&cm_mmca2=10006555&cm_mmca3=M12345678&cvosrc=email.Newsletter.M12345678&cvo_campaign=000026UJ&cm_mmc=Email_Newsletter-_-Developer_Ed%2BTech-_-WW_WW-_-SkillsNetwork-Courses-IBM-DA0321EN-SkillsNetwork-21426264&cm_mmca1=000026UJ&cm_mmca2=10006555&cm_mmca3=M12345678&cvosrc=email.Newsletter.M12345678&cvo_campaign=000026UJ&cm_mmc=Email_Newsletter-_-Developer_Ed%2BTech-_-WW_WW-_-SkillsNetwork-Courses-IBM-DA0321EN-SkillsNetwork-21426264&cm_mmca1=000026UJ&cm_mmca2=10006555&cm_mmca3=M12345678&cvosrc=email.Newsletter.M12345678&cvo_campaign=000026UJ&cm_mmc=Email_Newsletter-_-Developer_Ed%2BTech-_-WW_WW-_-SkillsNetwork-Courses-IBMDeveloperSkillsNetwork-PY0221EN-SkillsNetwork-23455645&cm_mmca1=000026UJ&cm_mmca2=10006555&cm_mmca3=M12345678&cvosrc=email.Newsletter.M12345678&cvo_campaign=000026UJ&cm_mmc=Email_Newsletter-_-Developer_Ed%2BTech-_-WW_WW-_-SkillsNetwork-Courses-IBMDeveloperSkillsNetwork-PY0221EN-SkillsNetwork-23455645&cm_mmca1=000026UJ&cm_mmca2=10006555&cm_mmca3=M12345678&cvosrc=email.Newsletter.M12345678&cvo_campaign=000026UJ).\n"
   ]
  }
 ],
 "metadata": {
  "kernelspec": {
   "display_name": "Python",
   "language": "python",
   "name": "conda-env-python-py"
  },
  "language_info": {
   "codemirror_mode": {
    "name": "ipython",
    "version": 3
   },
   "file_extension": ".py",
   "mimetype": "text/x-python",
   "name": "python",
   "nbconvert_exporter": "python",
   "pygments_lexer": "ipython3",
   "version": "3.6.13"
  }
 },
 "nbformat": 4,
 "nbformat_minor": 4
}
